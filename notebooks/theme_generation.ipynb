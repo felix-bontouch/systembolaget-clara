{
 "cells": [
  {
   "cell_type": "code",
   "execution_count": 16,
   "id": "f4eb7d63-ee05-4401-89d5-cfaf3c3f7372",
   "metadata": {
    "tags": []
   },
   "outputs": [],
   "source": [
    "import pandas as pd\n",
    "import os\n",
    "from tqdm import tqdm\n",
    "from datetime import datetime\n",
    "from dotenv import load_dotenv\n",
    "import concurrent.futures\n",
    "\n",
    "from langchain.prompts import ChatPromptTemplate\n",
    "from langchain_openai import ChatOpenAI\n",
    "from langchain.output_parsers.openai_tools import JsonOutputToolsParser"
   ]
  },
  {
   "cell_type": "code",
   "execution_count": 6,
   "id": "e4f542ee-8914-4fea-9ba5-56b865f7bcae",
   "metadata": {
    "tags": []
   },
   "outputs": [],
   "source": [
    "with open(\"../../../../Keys/openai_natural_language_search_systembolaget.txt\") as file:\n",
    "    os.environ[\"OPENAI_API_KEY\"] = file.read()  "
   ]
  },
  {
   "cell_type": "markdown",
   "id": "995317c1-54b1-41d3-959f-b53e1c31c5cf",
   "metadata": {},
   "source": [
    "### Map template"
   ]
  },
  {
   "cell_type": "code",
   "execution_count": null,
   "id": "2bc476f6-ed6a-4ac3-9e43-73bff7d7bd46",
   "metadata": {},
   "outputs": [
    {
     "data": {
      "text/plain": [
       "'sk-proj-LiSWlzQfCYjPVBpIFQu8T3BlbkFJ0iNqx1Ovwa57DJJOrp59'"
      ]
     },
     "execution_count": 298,
     "metadata": {},
     "output_type": "execute_result"
    }
   ],
   "source": [
    "os.environ[\"OPENAI_API_KEY\"]"
   ]
  },
  {
   "cell_type": "code",
   "execution_count": 292,
   "id": "c4ead174-8433-4c82-b30b-0c52f6a55c2d",
   "metadata": {
    "tags": []
   },
   "outputs": [],
   "source": [
    "batch_template = (\n",
    "    \"You are set to analyze the responses for a survey that is described as this:\\n\"\n",
    "    \"<survey_description>{survey_description}</survey_description>\\n\\n\"\n",
    "\n",
    "    \"The following content is a set of survey answers for the question:\"\n",
    "    \"<question>{question}</question>\\n\\n\"\n",
    "\n",
    "    \"Answers:\\n\"\n",
    "    \"<answers>{answers}</answers>\\n\\n\"\n",
    "\n",
    "    \"Instructions:\\n\"\n",
    "    \"Based on this list, please identify the main themes.\\n\"\n",
    "    \"The themes should be in a list. Every theme should have a short name and a well \"\n",
    "    \"written description of user opinions.\\n\"\n",
    "    \"Pay close attention to the frequency and urgency of the answers.\\n\"\n",
    "    \"Include only insights that are prevalent in multiple answers and can be used to \"\n",
    "    \"describe more general opinions.\\n\"\n",
    "    \"Always use the survey_theme_identifier function.\"\n",
    ")\n",
    "\n",
    "function_description = (\n",
    "    \"To identify the main themes present in the survey answers, based on the survey descirption \"\n",
    "    \"and the question that has been asked to the respondent. Close attention must be paid the the \"\n",
    "    \"frequency and urgency and the responses.\"\n",
    ")\n",
    "\n",
    "major_themes_items = {\n",
    "    \"type\" : \"object\",\n",
    "    \"properties\" : {\n",
    "        \"theme_name\" : {\n",
    "            \"type\" : \"string\",\n",
    "            \"description\" : \"A descriptive name for the identified theme in Swedish\"\n",
    "        },\n",
    "        \"theme_description\" : {\n",
    "            \"type\" : \"string\",\n",
    "            \"description\" : \"A longer description in Swedish that captures the overall opinion and variance of the identified theme.\"\n",
    "        },\n",
    "        \"sentiment\" : {\n",
    "            \"type\" : \"string\",\n",
    "            \"description\" : \"What the overall sentiment is in the responses about the specified theme.\",\n",
    "            \"enum\" : [\"positive\", \"negative\", \"neutral\", \"neither\"]\n",
    "        }\n",
    "    },\n",
    "     \"required\": [\"theme_name\", \"theme_description\", \"sentiment\"]\n",
    "}\n",
    "\n",
    "survey_function = {\n",
    "    \"type\": \"function\",\n",
    "    \"function\": {\n",
    "        \"name\": \"survey_theme_identifier\",\n",
    "        \"description\": function_description,\n",
    "        \"parameters\": {\n",
    "            \"type\": \"object\",\n",
    "            \"properties\": {\n",
    "                \"major_themes\": {\n",
    "                    \"type\": \"array\",\n",
    "                    \"description\": \"List of distinct main themes in the survey responses.\",\n",
    "                    \"items\" : major_themes_items\n",
    "                }\n",
    "            },\n",
    "            \"required\": [\"major_themes\"]\n",
    "        }\n",
    "    }\n",
    "}"
   ]
  },
  {
   "cell_type": "code",
   "execution_count": 293,
   "id": "14cbd355-e3e5-4942-bc0d-af6b3f43c091",
   "metadata": {
    "tags": []
   },
   "outputs": [],
   "source": [
    "CHAT_MODEL = ChatOpenAI(temperature=0, model_name=\"gpt-4o\")"
   ]
  },
  {
   "cell_type": "code",
   "execution_count": 294,
   "id": "96e459a7-f583-4ca0-8647-56a6127693d9",
   "metadata": {
    "tags": []
   },
   "outputs": [],
   "source": [
    "model = CHAT_MODEL.bind_tools([map_function])\n",
    "map_chain = map_prompt_template | model | JsonOutputToolsParser()"
   ]
  },
  {
   "cell_type": "code",
   "execution_count": 295,
   "id": "1ff24993-6fa8-4cfa-a0dc-6f060d8d9c6e",
   "metadata": {
    "tags": []
   },
   "outputs": [],
   "source": [
    "def get_batch_answers(data, survey_description, question_column):\n",
    "\n",
    "    batch = []\n",
    "    batch_size = 250\n",
    "    data = data[~data[question_column].isna()]\n",
    "\n",
    "    for i in range(0, len(data), batch_size):\n",
    "        temp = data.iloc[i:i+batch_size]\n",
    "        answers = \"\\n\\n\\n\".join(temp[question_column])\n",
    "        batch.append({\n",
    "            \"question\": question_column, \n",
    "            \"answers\" : answers, \n",
    "            \"survey_description\" : survey_description\n",
    "            })\n",
    "        \n",
    "    return batch"
   ]
  },
  {
   "cell_type": "markdown",
   "id": "0ee39d22-871b-40d0-a505-b2951915f8e3",
   "metadata": {},
   "source": [
    "### Get data"
   ]
  },
  {
   "cell_type": "code",
   "execution_count": 296,
   "id": "d40cd00a-8e5d-414b-a08f-a9832e8acb39",
   "metadata": {
    "tags": []
   },
   "outputs": [],
   "source": [
    "data = pd.read_excel(\"data.xlsx\")\n",
    "survey_description = \"En enkät om användares åsikt kring en ny funktion i Systembolagets app där man kan beställa till butik.\"\n",
    "question_column = \"Är det något du vill kommentera kring dina svar?\""
   ]
  },
  {
   "cell_type": "code",
   "execution_count": 297,
   "id": "0e0c4a2f-86f6-47ea-970a-55899090c3a2",
   "metadata": {
    "tags": []
   },
   "outputs": [],
   "source": [
    "batch_answers = get_batch_answers(data, survey_description, question_column)"
   ]
  },
  {
   "cell_type": "markdown",
   "id": "8cb94f15-33d6-4846-b456-a51fc65462c9",
   "metadata": {},
   "source": [
    "### Reduce template"
   ]
  },
  {
   "cell_type": "code",
   "execution_count": 251,
   "id": "746b4550-93bc-4e6b-9b41-422f5bd8f22e",
   "metadata": {
    "tags": []
   },
   "outputs": [],
   "source": [
    "summary_template = (\n",
    "    \"You are set to analyze the responses for a survey that is described as this:\\n\"\n",
    "    \"<survey_description>{survey_description}</survey_description>\\n\\n\"\n",
    "    \n",
    "    \"The following is set of summaries of main themes for the question: \"\n",
    "    \"<question>{question}</question> in the survey:\\n\"\n",
    "    \n",
    "    \"<answer_summar>{answer_summary}</answer_summar>\\n\\n\"\n",
    "    \n",
    "    \"Instructions:\"\n",
    "    \"Take these and distill it into a final, consolidated summary of the main themes.\\n\"\n",
    "    \"Make sure to make the list as relevant and consice as possible.\\n\"\n",
    "    \"Make sure that similar themes are consolidated into one.\\n\"\n",
    "    \"Every theme should have a name and a well written section on the details of the repondents opinions.\\n\"\n",
    "    \"Include only insights that can be used to describe more general opinions.\\n\"\n",
    "    \"The themes should be in a list in plain string format.\\n\"\n",
    "    \"Always include a theme called General, with an overall summary of the opinions.\\n\"\n",
    "    \"Always use the survey_theme_identifier function.\"\n",
    ")"
   ]
  },
  {
   "cell_type": "code",
   "execution_count": 256,
   "id": "efcd708a-f220-4dfa-b7e7-1de82bbc75b0",
   "metadata": {
    "tags": []
   },
   "outputs": [],
   "source": [
    "def get_string_summary(responses):\n",
    "    collection = \"\"\n",
    "    \n",
    "    for run, response in enumerate(responses):\n",
    "        collection+=f\"# SUMMARY {run+1}:\\n\"\n",
    "        for theme in response[0][\"args\"][\"major_themes\"]:\n",
    "            theme_summary = (\n",
    "                f\"<theme_name>{theme['theme_name']}</theme_name>\\n\"\n",
    "                f\"<theme_description>{theme['theme_description']}</theme_description>\\n\"\n",
    "                f\"<information>Sentiment:{theme['sentiment']}\\nFrequency: {theme['frequency']}/5\\nUrgency: {theme['urgency']}/5</information>\\n\"\n",
    "                \"---\\n\"\n",
    "            )\n",
    "            collection+=f\"{theme_summary}\"\n",
    "        \n",
    "       #collection+=\"------\\n\"\n",
    "        \n",
    "    return collection"
   ]
  },
  {
   "cell_type": "code",
   "execution_count": 257,
   "id": "d000b393-d5a7-4f45-88ae-71d67f2d067a",
   "metadata": {
    "tags": []
   },
   "outputs": [],
   "source": [
    "def _set_up_templates():\n",
    "    batch_prompt = ChatPromptTemplate.from_template(batch_template)\n",
    "    summary_prompt = ChatPromptTemplate.from_template(summary_template)\n",
    "    \n",
    "    return batch_prompt, summary_prompt\n",
    "\n",
    "\n",
    "def _set_up_chains(batch_prompt, summary_prompt):\n",
    "    \n",
    "    model = CHAT_MODEL.bind_tools([survey_function]) \n",
    "    batch_chain = batch_prompt | model | JsonOutputToolsParser() \n",
    "    summary_chain = summary_prompt | model | JsonOutputToolsParser()\n",
    "\n",
    "    return batch_chain, summary_chain"
   ]
  },
  {
   "cell_type": "code",
   "execution_count": 287,
   "id": "97380740-a9a6-4b78-9254-8b5b95d3bb85",
   "metadata": {
    "tags": []
   },
   "outputs": [],
   "source": [
    "def get_question_summary(data, survey_description,  question):\n",
    "    \n",
    "    batch_prompt, summary_prompt = _set_up_templates()\n",
    "    batch_chain, summary_chain = _set_up_chains(batch_prompt, summary_prompt)\n",
    "    \n",
    "    data = data.dropna(subset=question)\n",
    "    data.loc[:,\"words\"] = data.loc[:,question].apply(lambda x:len(x.split(\" \")))\n",
    "    data = data[data[\"words\"] > 3].copy()\n",
    "    \n",
    "    batch = get_batch_answers(data, survey_description, question)\n",
    "    responses = batch_chain.batch(batch)    \n",
    "    string_summary = get_string_summary(responses)\n",
    "    \n",
    "    question_summary = summary_chain.invoke({\n",
    "        \"answer_summary\" : string_summary, \n",
    "        \"survey_description\": survey_description, \n",
    "        \"question\" : question\n",
    "        })\n",
    "    \n",
    "    return question_summary[0][\"args\"][\"major_themes\"]"
   ]
  },
  {
   "cell_type": "code",
   "execution_count": 288,
   "id": "13e9e3aa-bcdb-499d-9e9c-978cffe1c34f",
   "metadata": {
    "tags": []
   },
   "outputs": [],
   "source": [
    "import concurrent.futures\n",
    "\n",
    "def generate_theme_dict(data, survey_description, questions):\n",
    "    theme_dict = {}\n",
    "\n",
    "    # Using ThreadPoolExecutor to process each question in parallel\n",
    "    with concurrent.futures.ThreadPoolExecutor() as executor:\n",
    "        # Create a future for each question\n",
    "        futures = {executor.submit(get_question_summary, data, survey_description, question): question for question in questions}\n",
    "\n",
    "        # As each future completes, update theme_dict\n",
    "        for future in concurrent.futures.as_completed(futures):\n",
    "            question = futures[future]\n",
    "            try:\n",
    "                question_summary = future.result()\n",
    "                theme_dict[question] = question_summary\n",
    "            except Exception as exc:\n",
    "                print(f'{question} generated an exception: {exc}')\n",
    "\n",
    "    return theme_dict"
   ]
  },
  {
   "cell_type": "code",
   "execution_count": 289,
   "id": "aa84487a-27d7-41ac-a859-70c80b4af017",
   "metadata": {
    "tags": []
   },
   "outputs": [
    {
     "name": "stderr",
     "output_type": "stream",
     "text": [
      "/var/folders/3y/_p0wfcqj5gs4q5j7zfj6rk2m0000gn/T/ipykernel_74518/3701243527.py:7: SettingWithCopyWarning: \n",
      "A value is trying to be set on a copy of a slice from a DataFrame.\n",
      "Try using .loc[row_indexer,col_indexer] = value instead\n",
      "\n",
      "See the caveats in the documentation: https://pandas.pydata.org/pandas-docs/stable/user_guide/indexing.html#returning-a-view-versus-a-copy\n",
      "  data.loc[:,\"words\"] = data.loc[:,question].apply(lambda x:len(x.split(\" \")))\n"
     ]
    }
   ],
   "source": [
    "a = generate_theme_dict(data, survey_description, [question_column])"
   ]
  },
  {
   "cell_type": "code",
   "execution_count": 291,
   "id": "ffe0f183-6cbc-49ba-856e-bb40ae7a2c2b",
   "metadata": {
    "tags": []
   },
   "outputs": [
    {
     "data": {
      "text/plain": [
       "{'Är det något du vill kommentera kring dina svar?': [{'theme_name': 'Förbetalning',\n",
       "   'theme_description': 'Många användare uttrycker missnöje med att behöva betala i förskott för sina beställningar. De föredrar att betala i butik vid upphämtning, vilket de anser vara mer bekvämt och säkert.',\n",
       "   'sentiment': 'negative',\n",
       "   'frequency': 5,\n",
       "   'urgency': 4},\n",
       "  {'theme_name': 'Betalningsmetoder',\n",
       "   'theme_description': 'Användare efterfrågar fler betalningsalternativ, såsom Klarna och Apple Pay, samt möjligheten att spara betalkortsuppgifter för smidigare betalning.',\n",
       "   'sentiment': 'neutral',\n",
       "   'frequency': 4,\n",
       "   'urgency': 3},\n",
       "  {'theme_name': 'Tekniska problem',\n",
       "   'theme_description': 'Flera användare rapporterar tekniska problem med appen, särskilt vid betalning med Swish och BankID. Problem inkluderar att fastna på webbsidan efter betalning och att appen inte återgår automatiskt efter genomförd betalning.',\n",
       "   'sentiment': 'negative',\n",
       "   'frequency': 4,\n",
       "   'urgency': 3},\n",
       "  {'theme_name': 'Användarvänlighet',\n",
       "   'theme_description': 'Användare upplever att appen är krånglig och svår att navigera. De efterfrågar förbättringar i sökfunktionen och tydligare instruktioner för beställning och betalning.',\n",
       "   'sentiment': 'negative',\n",
       "   'frequency': 4,\n",
       "   'urgency': 3},\n",
       "  {'theme_name': 'Positiv feedback',\n",
       "   'theme_description': 'Trots vissa problem är många användare positiva till den nya beställningsfunktionen i appen. De uppskattar möjligheten att beställa direkt i appen och tycker att det är en bra förbättring.',\n",
       "   'sentiment': 'positive',\n",
       "   'frequency': 3,\n",
       "   'urgency': 2}]}"
      ]
     },
     "execution_count": 291,
     "metadata": {},
     "output_type": "execute_result"
    }
   ],
   "source": [
    "with open()"
   ]
  },
  {
   "cell_type": "code",
   "execution_count": null,
   "id": "be1557c6-08c2-45ff-89ce-db41b7e683ce",
   "metadata": {},
   "outputs": [],
   "source": []
  }
 ],
 "metadata": {
  "kernelspec": {
   "display_name": "Python 3 (ipykernel)",
   "language": "python",
   "name": "python3"
  },
  "language_info": {
   "codemirror_mode": {
    "name": "ipython",
    "version": 3
   },
   "file_extension": ".py",
   "mimetype": "text/x-python",
   "name": "python",
   "nbconvert_exporter": "python",
   "pygments_lexer": "ipython3",
   "version": "3.11.5"
  }
 },
 "nbformat": 4,
 "nbformat_minor": 5
}
