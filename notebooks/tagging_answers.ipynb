{
 "cells": [
  {
   "cell_type": "code",
   "execution_count": 26,
   "id": "06373548-40fb-4dfb-919c-5ccd60aee9de",
   "metadata": {
    "tags": []
   },
   "outputs": [],
   "source": [
    "import pandas as pd\n",
    "import os\n",
    "from dotenv import load_dotenv\n",
    "import concurrent.futures\n",
    "\n",
    "from langchain.prompts import ChatPromptTemplate\n",
    "from langchain_openai import ChatOpenAI\n",
    "from langchain.output_parsers.openai_tools import JsonOutputToolsParser\n",
    "from operator import itemgetter\n",
    "from langchain.schema.runnable import RunnableMap"
   ]
  },
  {
   "cell_type": "code",
   "execution_count": 22,
   "id": "d7fcb86f-c60d-4f56-9289-f5990898ae1a",
   "metadata": {
    "tags": []
   },
   "outputs": [],
   "source": [
    "with open(\"../../../../Keys/openai_natural_language_search_systembolaget.txt\") as file:\n",
    "    os.environ[\"OPENAI_API_KEY\"] = file.read()  "
   ]
  },
  {
   "cell_type": "code",
   "execution_count": 161,
   "id": "8a261df1-d353-4c75-9727-85af41cf0b1f",
   "metadata": {
    "tags": []
   },
   "outputs": [],
   "source": [
    "system_template = (\n",
    "    \"You are an expert at tagging survey answers with themes of what they cover. \"\n",
    "    \"Make sure that you pay close attention to what the answer is, and only use relvant themes as tags. \"\n",
    "    \"One answer may have multiple themes tied to it. These should always be carefully chosen.\\n\\n\"\n",
    "\n",
    "    \"The survey is describes as following:\\n\"\n",
    "    \"<survey_description>{survey_description}</survey_description>\\n\\n\"\n",
    "\n",
    "    \"This answer is for the question:\\n\"\n",
    "    \"<question>{question}</question> \\n\\n\"\n",
    "    \n",
    "    \"These are the themes that you are allowed to use:\\n\"\n",
    "    \"<themes>{themes}</themes>\\n\\n\"\n",
    "    \n",
    "    \"The respondents answer: {answer}\"\n",
    ")"
   ]
  },
  {
   "cell_type": "code",
   "execution_count": 162,
   "id": "df4a8829-d499-4a21-abd0-af5f9effc73b",
   "metadata": {
    "tags": []
   },
   "outputs": [],
   "source": [
    "theme_dict = {'Är det något du vill kommentera kring dina svar?': [{'theme_name': 'Förbetalning',\n",
    "   'theme_description': 'Många användare uttrycker missnöje med att behöva betala i förskott för sina beställningar. De föredrar att betala i butik vid upphämtning, vilket de anser vara mer bekvämt och säkert.',\n",
    "   'sentiment': 'negative',\n",
    "   'frequency': 5,\n",
    "   'urgency': 4},\n",
    "  {'theme_name': 'Betalningsmetoder',\n",
    "   'theme_description': 'Användare efterfrågar fler betalningsalternativ, såsom Klarna och Apple Pay, samt möjligheten att spara betalkortsuppgifter för smidigare betalning.',\n",
    "   'sentiment': 'neutral',\n",
    "   'frequency': 4,\n",
    "   'urgency': 3},\n",
    "  {'theme_name': 'Tekniska problem',\n",
    "   'theme_description': 'Flera användare rapporterar tekniska problem med appen, särskilt vid betalning med Swish och BankID. Problem inkluderar att fastna på webbsidan efter betalning och att appen inte återgår automatiskt efter genomförd betalning.',\n",
    "   'sentiment': 'negative',\n",
    "   'frequency': 4,\n",
    "   'urgency': 3},\n",
    "  {'theme_name': 'Användarvänlighet',\n",
    "   'theme_description': 'Användare upplever att appen är krånglig och svår att navigera. De efterfrågar förbättringar i sökfunktionen och tydligare instruktioner för beställning och betalning.',\n",
    "   'sentiment': 'negative',\n",
    "   'frequency': 4,\n",
    "   'urgency': 3},\n",
    "  {'theme_name': 'Positiv feedback',\n",
    "   'theme_description': 'Trots vissa problem är många användare positiva till den nya beställningsfunktionen i appen. De uppskattar möjligheten att beställa direkt i appen och tycker att det är en bra förbättring.',\n",
    "   'sentiment': 'positive',\n",
    "   'frequency': 3,\n",
    "   'urgency': 2}]}"
   ]
  },
  {
   "cell_type": "markdown",
   "id": "900a4a99-89ce-4a8c-aae0-923ae4fa89d2",
   "metadata": {},
   "source": [
    "### Functions"
   ]
  },
  {
   "cell_type": "code",
   "execution_count": 225,
   "id": "5a648c98-513e-4ed0-a76b-89a34c169eb3",
   "metadata": {
    "tags": []
   },
   "outputs": [],
   "source": [
    "CHAT_MODEL = ChatOpenAI(temperature=0, model_name=\"gpt-4o\")"
   ]
  },
  {
   "cell_type": "code",
   "execution_count": 226,
   "id": "19e694b3-6788-402c-87f0-8f804d8e050b",
   "metadata": {
    "tags": []
   },
   "outputs": [],
   "source": [
    "def _set_up_tools(themes):\n",
    "    \n",
    "    # Function Description\n",
    "    function_description = (\n",
    "        \"To identify the relevant themes present in the survey answer based on the survey description, \"\n",
    "        \"the question asked to the respondent, and the themes included in the survey. This function also \"\n",
    "        \"assesses the sentiment and urgency expressed by the respondent for each identified theme.\"\n",
    "    )\n",
    "\n",
    "    # Theme Items Schema\n",
    "    theme_items = {\n",
    "        \"type\": \"object\",\n",
    "        \"properties\": {\n",
    "            \"theme\": {\n",
    "                \"type\": \"string\",\n",
    "                \"description\": \"The identified theme present in the survey answer.\",\n",
    "                \"enum\": [theme[\"theme_name\"] for theme in themes]\n",
    "            },\n",
    "            \"sentiment\": {\n",
    "                \"type\": \"string\",\n",
    "                \"description\": \"The overall sentiment expressed in the response about the specified theme.\",\n",
    "                \"enum\": [\"positive\", \"negative\", \"neutral\", \"neither\", \"both\"]\n",
    "            },\n",
    "            \"urgency\": {\n",
    "                \"type\": \"integer\",\n",
    "                \"description\": (\n",
    "                    \"A scale from 1-5 defining the overall urgency of this theme in the response. \"\n",
    "                    \"A higher number indicates a stronger sense of urgency expressed by the respondent. \"\n",
    "                ),\n",
    "                \"enum\": [1, 2, 3, 4, 5]\n",
    "            }\n",
    "        },\n",
    "        \"required\": [\"theme\", \"sentiment\", \"urgency\"]\n",
    "    }\n",
    "\n",
    "    # Answer Theme Function Schema\n",
    "    answer_theme_function = {\n",
    "        \"type\": \"function\",\n",
    "        \"function\": {\n",
    "            \"name\": \"answer_theme_identifier\",\n",
    "            \"description\": function_description,\n",
    "            \"parameters\": {\n",
    "                \"type\": \"object\",\n",
    "                \"properties\": {\n",
    "                    \"themes\": {\n",
    "                        \"type\": \"array\",\n",
    "                        \"description\": \"List of relevant themes identified in the survey response.\",\n",
    "                        \"items\": theme_items\n",
    "                    }\n",
    "                },\n",
    "                \"required\": [\"themes\"]\n",
    "            }\n",
    "        }\n",
    "    }\n",
    "\n",
    "    \n",
    "    return answer_theme_function\n",
    "    "
   ]
  },
  {
   "cell_type": "code",
   "execution_count": 227,
   "id": "6f6bee76-cd22-4e4f-9b1e-7e6a1289b170",
   "metadata": {
    "tags": []
   },
   "outputs": [],
   "source": [
    "def _set_up_chain(themes):\n",
    "    prompt = ChatPromptTemplate.from_template(system_template)\n",
    "    tool = _set_up_tools(themes)\n",
    "    model = CHAT_MODEL.bind_tools([tool]) \n",
    "    chain = RunnableMap({\n",
    "        \"answer_id\" : itemgetter(\"answer_id\"),\n",
    "        \"data\" : (\n",
    "            {\n",
    "                \"answer\": itemgetter(\"answer\"), \n",
    "                \"question\": itemgetter(\"question\"), \n",
    "                \"themes\": itemgetter(\"themes\"), \n",
    "                \"survey_description\": itemgetter(\"survey_description\")\n",
    "                }\n",
    "            | prompt\n",
    "            | model\n",
    "            | JsonOutputToolsParser()\n",
    "        )\n",
    "    })\n",
    "    \n",
    "    return chain"
   ]
  },
  {
   "cell_type": "code",
   "execution_count": 228,
   "id": "12b2864f-921f-4526-b2a9-cf793ddcd0e5",
   "metadata": {
    "tags": []
   },
   "outputs": [],
   "source": [
    "def process_llm_output(llm_output):\n",
    "\n",
    "    preprocessed_data = pd.DataFrame()\n",
    "\n",
    "    for i, item in enumerate(llm_output):\n",
    "\n",
    "        temp = pd.DataFrame(item[\"data\"][0][\"args\"][\"themes\"])\n",
    "        temp[\"answer_id\"] = item[\"answer_id\"]\n",
    "\n",
    "        preprocessed_data = pd.concat([preprocessed_data, temp])\n",
    "        \n",
    "    return preprocessed_data"
   ]
  },
  {
   "cell_type": "code",
   "execution_count": 229,
   "id": "33eccc48-d9e2-4065-8d3d-949d1f82262c",
   "metadata": {
    "tags": []
   },
   "outputs": [],
   "source": [
    "def parse_answers(data, question, survey_description, themes, batch_size:int = 250):\n",
    "\n",
    "    theme_list = \"\"\n",
    "    \n",
    "    for theme in themes[question]:\n",
    "        if theme['theme_name'] != \"General\" : \n",
    "            theme_list += f\"{theme['theme_name']} : {theme['theme_description']}\\n\"\n",
    "\n",
    "    data = data.dropna(subset=question).copy()\n",
    "    data[\"words\"] = data[question].apply(lambda x:len(x.split(\" \")))\n",
    "    data = data[data[\"words\"] > 3]\n",
    "    \n",
    "    chain = _set_up_chain(themes[question])\n",
    "    \n",
    "    # Send batch of answers at a time to LLM\n",
    "    parsed_data = pd.DataFrame()\n",
    "    for i in range(0, len(data), batch_size):\n",
    "        # Batching\n",
    "        temp = data.iloc[i:i+batch_size]\n",
    "        batch = [\n",
    "            {\"answer\": row[question], \n",
    "             \"question\": question, \n",
    "             \"answer_id\": idx, \n",
    "             \"themes\" : theme_list, \n",
    "             \"survey_description\": survey_description\n",
    "             } for idx, row in temp.iterrows()]\n",
    "        \n",
    "        # Parse reviews with LLM\n",
    "        llm_output = chain.batch(batch) \n",
    "        processed_output = process_llm_output(llm_output)\n",
    "        parsed_data = pd.concat([parsed_data, processed_output])\n",
    "\n",
    "    return parsed_data.reset_index(drop=True)"
   ]
  },
  {
   "cell_type": "code",
   "execution_count": 230,
   "id": "8f652948-87df-4385-bf02-195393a17be2",
   "metadata": {
    "tags": []
   },
   "outputs": [],
   "source": [
    "data = pd.read_excel(\"data.xlsx\")\n",
    "survey_description = \"En enkät om användares åsikt kring en ny funktion i Systembolagets app där man kan beställa till butik.\"\n",
    "question_column = \"Är det något du vill kommentera kring dina svar?\""
   ]
  },
  {
   "cell_type": "code",
   "execution_count": 231,
   "id": "f1068af9-4a55-4344-bedb-53c58d09611e",
   "metadata": {},
   "outputs": [],
   "source": [
    "parsed_data = parse_answers(data, question_column, survey_description, theme_dict)"
   ]
  },
  {
   "cell_type": "code",
   "execution_count": 233,
   "id": "7fe8a945-a261-4386-a780-587780c81267",
   "metadata": {
    "tags": []
   },
   "outputs": [
    {
     "data": {
      "text/plain": [
       "theme              sentiment\n",
       "Användarvänlighet  both           1\n",
       "                   negative      92\n",
       "                   neutral       13\n",
       "                   positive       7\n",
       "Betalningsmetoder  negative      11\n",
       "                   neutral       10\n",
       "                   positive      13\n",
       "Förbetalning       negative     115\n",
       "                   neutral        8\n",
       "                   positive       5\n",
       "Positiv feedback   neutral        1\n",
       "                   positive      91\n",
       "Tekniska problem   negative      55\n",
       "Name: answer_id, dtype: int64"
      ]
     },
     "execution_count": 233,
     "metadata": {},
     "output_type": "execute_result"
    }
   ],
   "source": [
    "parsed_data.groupby([\"theme\", \"sentiment\"])[\"answer_id\"].nunique()"
   ]
  },
  {
   "cell_type": "code",
   "execution_count": 234,
   "id": "dfa84ac4-9502-49d1-9171-8f5b8a27f9d0",
   "metadata": {
    "tags": []
   },
   "outputs": [
    {
     "data": {
      "text/html": [
       "<div>\n",
       "<style scoped>\n",
       "    .dataframe tbody tr th:only-of-type {\n",
       "        vertical-align: middle;\n",
       "    }\n",
       "\n",
       "    .dataframe tbody tr th {\n",
       "        vertical-align: top;\n",
       "    }\n",
       "\n",
       "    .dataframe thead th {\n",
       "        text-align: right;\n",
       "    }\n",
       "</style>\n",
       "<table border=\"1\" class=\"dataframe\">\n",
       "  <thead>\n",
       "    <tr style=\"text-align: right;\">\n",
       "      <th></th>\n",
       "      <th>theme</th>\n",
       "      <th>sentiment</th>\n",
       "      <th>urgency</th>\n",
       "      <th>answer_id</th>\n",
       "    </tr>\n",
       "  </thead>\n",
       "  <tbody>\n",
       "    <tr>\n",
       "      <th>388</th>\n",
       "      <td>Användarvänlighet</td>\n",
       "      <td>both</td>\n",
       "      <td>3</td>\n",
       "      <td>1534</td>\n",
       "    </tr>\n",
       "  </tbody>\n",
       "</table>\n",
       "</div>"
      ],
      "text/plain": [
       "                 theme sentiment  urgency  answer_id\n",
       "388  Användarvänlighet      both        3       1534"
      ]
     },
     "execution_count": 234,
     "metadata": {},
     "output_type": "execute_result"
    }
   ],
   "source": [
    "parsed_data[(parsed_data[\"theme\"] == \"Användarvänlighet\") & (parsed_data[\"sentiment\"] == \"both\")]"
   ]
  },
  {
   "cell_type": "code",
   "execution_count": 236,
   "id": "65ae2e17-cab7-41b7-bfe3-3ba9fdb65b30",
   "metadata": {
    "tags": []
   },
   "outputs": [
    {
     "data": {
      "text/html": [
       "<div>\n",
       "<style scoped>\n",
       "    .dataframe tbody tr th:only-of-type {\n",
       "        vertical-align: middle;\n",
       "    }\n",
       "\n",
       "    .dataframe tbody tr th {\n",
       "        vertical-align: top;\n",
       "    }\n",
       "\n",
       "    .dataframe thead th {\n",
       "        text-align: right;\n",
       "    }\n",
       "</style>\n",
       "<table border=\"1\" class=\"dataframe\">\n",
       "  <thead>\n",
       "    <tr style=\"text-align: right;\">\n",
       "      <th></th>\n",
       "      <th>theme</th>\n",
       "      <th>sentiment</th>\n",
       "      <th>urgency</th>\n",
       "      <th>answer_id</th>\n",
       "    </tr>\n",
       "  </thead>\n",
       "  <tbody>\n",
       "    <tr>\n",
       "      <th>273</th>\n",
       "      <td>Tekniska problem</td>\n",
       "      <td>negative</td>\n",
       "      <td>3</td>\n",
       "      <td>1045</td>\n",
       "    </tr>\n",
       "    <tr>\n",
       "      <th>274</th>\n",
       "      <td>Positiv feedback</td>\n",
       "      <td>positive</td>\n",
       "      <td>2</td>\n",
       "      <td>1045</td>\n",
       "    </tr>\n",
       "  </tbody>\n",
       "</table>\n",
       "</div>"
      ],
      "text/plain": [
       "                theme sentiment  urgency  answer_id\n",
       "273  Tekniska problem  negative        3       1045\n",
       "274  Positiv feedback  positive        2       1045"
      ]
     },
     "execution_count": 236,
     "metadata": {},
     "output_type": "execute_result"
    }
   ],
   "source": [
    "parsed_data[parsed_data[\"answer_id\"] == 1045]"
   ]
  },
  {
   "cell_type": "code",
   "execution_count": 237,
   "id": "4fed26c5-876e-4630-97d7-9b3a9611f663",
   "metadata": {
    "tags": []
   },
   "outputs": [
    {
     "data": {
      "text/plain": [
       "'Fick kontakta kundservice för hjälp med att beställa via appen. Fick hjälp direkt mkt bra. Var tvungen att aktivera funktionen beställa, sen gick det bra.'"
      ]
     },
     "execution_count": 237,
     "metadata": {},
     "output_type": "execute_result"
    }
   ],
   "source": [
    "data.iloc[1045][\"Är det något du vill kommentera kring dina svar?\"]"
   ]
  },
  {
   "cell_type": "code",
   "execution_count": null,
   "id": "be9aab08-537e-47c7-b0f8-85fdeb18196b",
   "metadata": {},
   "outputs": [],
   "source": []
  }
 ],
 "metadata": {
  "kernelspec": {
   "display_name": "Python 3 (ipykernel)",
   "language": "python",
   "name": "python3"
  },
  "language_info": {
   "codemirror_mode": {
    "name": "ipython",
    "version": 3
   },
   "file_extension": ".py",
   "mimetype": "text/x-python",
   "name": "python",
   "nbconvert_exporter": "python",
   "pygments_lexer": "ipython3",
   "version": "3.11.5"
  }
 },
 "nbformat": 4,
 "nbformat_minor": 5
}
